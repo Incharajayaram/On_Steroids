{
 "cells": [
  {
   "cell_type": "code",
   "execution_count": null,
   "metadata": {},
   "outputs": [
    {
     "name": "stdout",
     "output_type": "stream",
     "text": [
      "Connected to Astra DB: ['movies']\n"
     ]
    }
   ],
   "source": [
    "from astrapy import DataAPIClient\n",
    "\n",
    "\n",
    "# Initialize the client\n",
    "client = DataAPIClient(\"AstraCS:oEEUUcIKGJftpAgBISkuFlms:a7f7dc0cba65043a98054b8f13f8d225dcd66d97690755e00b5a6f630555e11b\")\n",
    "db = client.get_database_by_api_endpoint(\n",
    "  \"https://5fe84140-e7c0-4373-b9c9-6d5bf293e582-us-east-2.apps.astra.datastax.com\"\n",
    ")\n",
    "\n",
    "print(f\"Connected to Astra DB: {db.list_collection_names()}\")"
   ]
  },
  {
   "cell_type": "code",
   "execution_count": null,
   "metadata": {},
   "outputs": [],
   "source": []
  }
 ],
 "metadata": {
  "kernelspec": {
   "display_name": "Python 3",
   "language": "python",
   "name": "python3"
  },
  "language_info": {
   "codemirror_mode": {
    "name": "ipython",
    "version": 3
   },
   "file_extension": ".py",
   "mimetype": "text/x-python",
   "name": "python",
   "nbconvert_exporter": "python",
   "pygments_lexer": "ipython3",
   "version": "3.10.0"
  }
 },
 "nbformat": 4,
 "nbformat_minor": 2
}
