{
 "cells": [
  {
   "cell_type": "code",
   "execution_count": 8,
   "metadata": {},
   "outputs": [
    {
<<<<<<< HEAD
     "name": "stdout",
     "output_type": "stream",
     "text": [
      "Connected to Astra DB: ['movies']\n"
=======
     "ename": "ModuleNotFoundError",
     "evalue": "No module named 'dotenv'",
     "output_type": "error",
     "traceback": [
      "\u001b[0;31m---------------------------------------------------------------------------\u001b[0m",
      "\u001b[0;31mModuleNotFoundError\u001b[0m                       Traceback (most recent call last)",
      "Cell \u001b[0;32mIn[1], line 1\u001b[0m\n\u001b[0;32m----> 1\u001b[0m \u001b[38;5;28;01mfrom\u001b[39;00m \u001b[38;5;21;01mdotenv\u001b[39;00m \u001b[38;5;28;01mimport\u001b[39;00m load_dotenv\n\u001b[1;32m      2\u001b[0m \u001b[38;5;28;01mimport\u001b[39;00m \u001b[38;5;21;01mos\u001b[39;00m\n\u001b[1;32m      3\u001b[0m \u001b[38;5;28;01mfrom\u001b[39;00m \u001b[38;5;21;01mastrapy\u001b[39;00m\u001b[38;5;21;01m.\u001b[39;00m\u001b[38;5;21;01mrest\u001b[39;00m \u001b[38;5;28;01mimport\u001b[39;00m create_client\n",
      "\u001b[0;31mModuleNotFoundError\u001b[0m: No module named 'dotenv'"
>>>>>>> 16febb88a9244c570dd70a002eb9f86a9600c387
     ]
    }
   ],
   "source": [
    "from astrapy import DataAPIClient\n",
    "\n",
<<<<<<< HEAD
    "# Initialize the client\n",
    "client = DataAPIClient(\"\")\n",
    "db = client.get_database_by_api_endpoint(\n",
    "  \"https://5fe84140-e7c0-4373-b9c9-6d5bf293e582-us-east-2.apps.astra.datastax.com\"\n",
=======
    "\n",
    "load_dotenv()\n",
    "\n",
    "# Get the token from environment variables\n",
    "ASTRA_DB_TOKEN = os.getenv(\"ASTRA_DB_TOKEN\")\n",
    "ASTRA_DB_ENDPOINT = \"https://b84226dd-764e-417d-8c42-f65b1daffe5b-us-east-2.apps.astra.datastax.com\"\n",
    "\n",
    "\n",
    "client = create_client(\n",
    "    astra_database_id=\"b84226dd-764e-417d-8c42-f65b1daffe5b\",  \n",
    "    astra_database_region=\"us-east-2\",   \n",
    "    astra_application_token=ASTRA_DB_TOKEN\n",
>>>>>>> 16febb88a9244c570dd70a002eb9f86a9600c387
    ")\n",
    "\n",
    "print(f\"Connected to Astra DB: {db.list_collection_names()}\")"
   ]
  },
  {
   "cell_type": "code",
   "execution_count": null,
   "metadata": {},
   "outputs": [],
   "source": []
  },
  {
   "cell_type": "code",
   "execution_count": null,
   "metadata": {},
   "outputs": [],
   "source": []
  },
  {
   "cell_type": "code",
   "execution_count": null,
   "metadata": {},
   "outputs": [],
   "source": []
  }
 ],
 "metadata": {
  "kernelspec": {
   "display_name": "Python 3",
   "language": "python",
   "name": "python3"
  },
  "language_info": {
   "codemirror_mode": {
    "name": "ipython",
    "version": 3
   },
   "file_extension": ".py",
   "mimetype": "text/x-python",
   "name": "python",
   "nbconvert_exporter": "python",
   "pygments_lexer": "ipython3",
<<<<<<< HEAD
   "version": "3.10.0"
=======
   "version": "3.12.6"
>>>>>>> 16febb88a9244c570dd70a002eb9f86a9600c387
  }
 },
 "nbformat": 4,
 "nbformat_minor": 2
}
