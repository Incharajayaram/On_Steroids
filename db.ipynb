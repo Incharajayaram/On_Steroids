{
 "cells": [
  {
   "cell_type": "code",
   "execution_count": 1,
   "metadata": {},
   "outputs": [
    {
     "name": "stdout",
     "output_type": "stream",
     "text": [
      "Connected to Astra DB: ['on_steroids']\n"
     ]
    }
   ],
   "source": [
    "from astrapy import DataAPIClient\n",
    "from dotenv import load_dotenv\n",
    "import os\n",
    "\n",
    "\n",
    "load_dotenv()\n",
    "\n",
    "\n",
    "astra_db_token = os.getenv('ASTRA_DB_TOKEN')\n",
    "astra_db_endpoint = os.getenv('ASTRA_DB_ENDPOINT')\n",
    "\n",
    "\n",
    "if not astra_db_token or not astra_db_endpoint:\n",
    "    raise ValueError(\"Environment variables ASTRA_DB_TOKEN or ASTRA_DB_ENDPOINT are missing\")\n",
    "\n",
    "\n",
    "client = DataAPIClient(astra_db_token)\n",
    "\n",
    "\n",
    "db = client.get_database_by_api_endpoint(astra_db_endpoint)\n",
    "\n",
    "\n",
    "print(f\"Connected to Astra DB: {db.list_collection_names()}\")"
   ]
  }
 ],
 "metadata": {
  "kernelspec": {
   "display_name": "Python 3",
   "language": "python",
   "name": "python3"
  },
  "language_info": {
   "codemirror_mode": {
    "name": "ipython",
    "version": 3
   },
   "file_extension": ".py",
   "mimetype": "text/x-python",
   "name": "python",
   "nbconvert_exporter": "python",
   "pygments_lexer": "ipython3",
   "version": "3.10.0"
  }
 },
 "nbformat": 4,
 "nbformat_minor": 2
}
